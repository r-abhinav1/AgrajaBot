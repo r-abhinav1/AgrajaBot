{
 "cells": [
  {
   "cell_type": "code",
   "execution_count": 1,
   "id": "cda0b70d",
   "metadata": {},
   "outputs": [],
   "source": [
    "import os\n",
    "import numpy as np\n",
    "import torch\n",
    "import torch.nn as nn\n",
    "import torch.nn.functional as F\n",
    "from torch.utils.data import TensorDataset, DataLoader\n",
    "from sklearn.preprocessing import StandardScaler, LabelEncoder\n",
    "from sklearn.metrics import classification_report, confusion_matrix\n",
    "from sklearn.model_selection import StratifiedKFold\n",
    "import matplotlib.pyplot as plt\n",
    "import seaborn as sns\n"
   ]
  },
  {
   "cell_type": "code",
   "execution_count": 2,
   "id": "0242d2ce",
   "metadata": {},
   "outputs": [
    {
     "name": "stdout",
     "output_type": "stream",
     "text": [
      "✅ Features loaded successfully:\n",
      "eGeMAPS: (6930, 88)\n",
      "Wav2Vec2: (6930, 768)\n",
      "WavLM: (6930, 768)\n"
     ]
    }
   ],
   "source": [
    "DATA_DIR = os.getcwd()\n",
    "FEATURES_DIR = DATA_DIR\n",
    "\n",
    "# Load eGeMAPS\n",
    "egemaps_features = np.load(os.path.join(FEATURES_DIR, r\"opensmile\\egemaps_features.npy\"))\n",
    "egemaps_labels = np.load(os.path.join(FEATURES_DIR, r\"opensmile\\egemaps_labels.npy\"))\n",
    "\n",
    "# Load Wav2Vec2\n",
    "wav2vec2_features = np.load(os.path.join(FEATURES_DIR, r\"wav2vec2 features\\wav2vec2_features.npy\"))\n",
    "wav2vec2_labels = np.load(os.path.join(FEATURES_DIR, r\"wav2vec2 features\\labels.npy\"))\n",
    "\n",
    "# Load WavLM\n",
    "wavlm_features = np.load(os.path.join(FEATURES_DIR, r\"wavLm features\\wavlm_features.npy\"))\n",
    "wavlm_labels = np.load(os.path.join(FEATURES_DIR, r\"wavLm features\\wavlm_labels.npy\"))\n",
    "\n",
    "print(\"✅ Features loaded successfully:\")\n",
    "print(\"eGeMAPS:\", egemaps_features.shape)\n",
    "print(\"Wav2Vec2:\", wav2vec2_features.shape)\n",
    "print(\"WavLM:\", wavlm_features.shape)\n"
   ]
  },
  {
   "cell_type": "code",
   "execution_count": 7,
   "id": "27a7eb63",
   "metadata": {},
   "outputs": [
    {
     "name": "stdout",
     "output_type": "stream",
     "text": [
      "Unique labels per source:\n",
      "eGeMAPS: ['Control' 'Dementia']\n",
      "Wav2Vec2: ['0' '1']\n",
      "WavLM: ['Control' 'Dementia']\n"
     ]
    },
    {
     "ename": "ValueError",
     "evalue": "y contains previously unseen labels: '0'",
     "output_type": "error",
     "traceback": [
      "\u001b[1;31m---------------------------------------------------------------------------\u001b[0m",
      "\u001b[1;31mKeyError\u001b[0m                                  Traceback (most recent call last)",
      "File \u001b[1;32mc:\\Users\\admin\\Desktop\\major major 6\\major 6 final new\\agraja_env\\lib\\site-packages\\sklearn\\utils\\_encode.py:225\u001b[0m, in \u001b[0;36m_encode\u001b[1;34m(values, uniques, check_unknown)\u001b[0m\n\u001b[0;32m    224\u001b[0m \u001b[38;5;28;01mtry\u001b[39;00m:\n\u001b[1;32m--> 225\u001b[0m     \u001b[38;5;28;01mreturn\u001b[39;00m \u001b[43m_map_to_integer\u001b[49m\u001b[43m(\u001b[49m\u001b[43mvalues\u001b[49m\u001b[43m,\u001b[49m\u001b[43m \u001b[49m\u001b[43muniques\u001b[49m\u001b[43m)\u001b[49m\n\u001b[0;32m    226\u001b[0m \u001b[38;5;28;01mexcept\u001b[39;00m \u001b[38;5;167;01mKeyError\u001b[39;00m \u001b[38;5;28;01mas\u001b[39;00m e:\n",
      "File \u001b[1;32mc:\\Users\\admin\\Desktop\\major major 6\\major 6 final new\\agraja_env\\lib\\site-packages\\sklearn\\utils\\_encode.py:165\u001b[0m, in \u001b[0;36m_map_to_integer\u001b[1;34m(values, uniques)\u001b[0m\n\u001b[0;32m    164\u001b[0m table \u001b[38;5;241m=\u001b[39m _nandict({val: i \u001b[38;5;28;01mfor\u001b[39;00m i, val \u001b[38;5;129;01min\u001b[39;00m \u001b[38;5;28menumerate\u001b[39m(uniques)})\n\u001b[1;32m--> 165\u001b[0m \u001b[38;5;28;01mreturn\u001b[39;00m np\u001b[38;5;241m.\u001b[39marray([table[v] \u001b[38;5;28;01mfor\u001b[39;00m v \u001b[38;5;129;01min\u001b[39;00m values])\n",
      "File \u001b[1;32mc:\\Users\\admin\\Desktop\\major major 6\\major 6 final new\\agraja_env\\lib\\site-packages\\sklearn\\utils\\_encode.py:165\u001b[0m, in \u001b[0;36m<listcomp>\u001b[1;34m(.0)\u001b[0m\n\u001b[0;32m    164\u001b[0m table \u001b[38;5;241m=\u001b[39m _nandict({val: i \u001b[38;5;28;01mfor\u001b[39;00m i, val \u001b[38;5;129;01min\u001b[39;00m \u001b[38;5;28menumerate\u001b[39m(uniques)})\n\u001b[1;32m--> 165\u001b[0m \u001b[38;5;28;01mreturn\u001b[39;00m np\u001b[38;5;241m.\u001b[39marray([\u001b[43mtable\u001b[49m\u001b[43m[\u001b[49m\u001b[43mv\u001b[49m\u001b[43m]\u001b[49m \u001b[38;5;28;01mfor\u001b[39;00m v \u001b[38;5;129;01min\u001b[39;00m values])\n",
      "File \u001b[1;32mc:\\Users\\admin\\Desktop\\major major 6\\major 6 final new\\agraja_env\\lib\\site-packages\\sklearn\\utils\\_encode.py:159\u001b[0m, in \u001b[0;36m_nandict.__missing__\u001b[1;34m(self, key)\u001b[0m\n\u001b[0;32m    158\u001b[0m     \u001b[38;5;28;01mreturn\u001b[39;00m \u001b[38;5;28mself\u001b[39m\u001b[38;5;241m.\u001b[39mnan_value\n\u001b[1;32m--> 159\u001b[0m \u001b[38;5;28;01mraise\u001b[39;00m \u001b[38;5;167;01mKeyError\u001b[39;00m(key)\n",
      "\u001b[1;31mKeyError\u001b[0m: '0'",
      "\nDuring handling of the above exception, another exception occurred:\n",
      "\u001b[1;31mValueError\u001b[0m                                Traceback (most recent call last)",
      "Cell \u001b[1;32mIn[7], line 33\u001b[0m\n\u001b[0;32m     30\u001b[0m le\u001b[38;5;241m.\u001b[39mfit(egemaps_labels)  \u001b[38;5;66;03m# using eGeMAPS as base\u001b[39;00m\n\u001b[0;32m     32\u001b[0m egemaps_labels_encoded \u001b[38;5;241m=\u001b[39m le\u001b[38;5;241m.\u001b[39mtransform(egemaps_labels)\n\u001b[1;32m---> 33\u001b[0m wav2vec2_labels_encoded \u001b[38;5;241m=\u001b[39m \u001b[43mle\u001b[49m\u001b[38;5;241;43m.\u001b[39;49m\u001b[43mtransform\u001b[49m\u001b[43m(\u001b[49m\u001b[43mwav2vec2_labels\u001b[49m\u001b[43m)\u001b[49m\n\u001b[0;32m     34\u001b[0m wavlm_labels_encoded \u001b[38;5;241m=\u001b[39m le\u001b[38;5;241m.\u001b[39mtransform(wavlm_labels)\n\u001b[0;32m     36\u001b[0m \u001b[38;5;66;03m# Double-check all match\u001b[39;00m\n",
      "File \u001b[1;32mc:\\Users\\admin\\Desktop\\major major 6\\major 6 final new\\agraja_env\\lib\\site-packages\\sklearn\\preprocessing\\_label.py:137\u001b[0m, in \u001b[0;36mLabelEncoder.transform\u001b[1;34m(self, y)\u001b[0m\n\u001b[0;32m    134\u001b[0m \u001b[38;5;28;01mif\u001b[39;00m _num_samples(y) \u001b[38;5;241m==\u001b[39m \u001b[38;5;241m0\u001b[39m:\n\u001b[0;32m    135\u001b[0m     \u001b[38;5;28;01mreturn\u001b[39;00m np\u001b[38;5;241m.\u001b[39marray([])\n\u001b[1;32m--> 137\u001b[0m \u001b[38;5;28;01mreturn\u001b[39;00m \u001b[43m_encode\u001b[49m\u001b[43m(\u001b[49m\u001b[43my\u001b[49m\u001b[43m,\u001b[49m\u001b[43m \u001b[49m\u001b[43muniques\u001b[49m\u001b[38;5;241;43m=\u001b[39;49m\u001b[38;5;28;43mself\u001b[39;49m\u001b[38;5;241;43m.\u001b[39;49m\u001b[43mclasses_\u001b[49m\u001b[43m)\u001b[49m\n",
      "File \u001b[1;32mc:\\Users\\admin\\Desktop\\major major 6\\major 6 final new\\agraja_env\\lib\\site-packages\\sklearn\\utils\\_encode.py:227\u001b[0m, in \u001b[0;36m_encode\u001b[1;34m(values, uniques, check_unknown)\u001b[0m\n\u001b[0;32m    225\u001b[0m         \u001b[38;5;28;01mreturn\u001b[39;00m _map_to_integer(values, uniques)\n\u001b[0;32m    226\u001b[0m     \u001b[38;5;28;01mexcept\u001b[39;00m \u001b[38;5;167;01mKeyError\u001b[39;00m \u001b[38;5;28;01mas\u001b[39;00m e:\n\u001b[1;32m--> 227\u001b[0m         \u001b[38;5;28;01mraise\u001b[39;00m \u001b[38;5;167;01mValueError\u001b[39;00m(\u001b[38;5;124mf\u001b[39m\u001b[38;5;124m\"\u001b[39m\u001b[38;5;124my contains previously unseen labels: \u001b[39m\u001b[38;5;132;01m{\u001b[39;00m\u001b[38;5;28mstr\u001b[39m(e)\u001b[38;5;132;01m}\u001b[39;00m\u001b[38;5;124m\"\u001b[39m)\n\u001b[0;32m    228\u001b[0m \u001b[38;5;28;01melse\u001b[39;00m:\n\u001b[0;32m    229\u001b[0m     \u001b[38;5;28;01mif\u001b[39;00m check_unknown:\n",
      "\u001b[1;31mValueError\u001b[0m: y contains previously unseen labels: '0'"
     ]
    }
   ],
   "source": [
    "# ============================================\n",
    "# Cell 3: Concatenate All Features (Final Fixed Version)\n",
    "# ============================================\n",
    "\n",
    "from sklearn.preprocessing import LabelEncoder\n",
    "import numpy as np\n",
    "\n",
    "# Convert numeric labels (0/1) in wav2vec2 to string form\n",
    "# We'll detect and map automatically\n",
    "if np.issubdtype(wav2vec2_labels.dtype, np.number):\n",
    "    unique_labels = np.unique(wav2vec2_labels)\n",
    "    if len(unique_labels) == 2:  # Binary case\n",
    "        mapping = {0: \"Control\", 1: \"Dementia\"} if \"Control\" in egemaps_labels else {0: \"Class0\", 1: \"Class1\"}\n",
    "        wav2vec2_labels = np.array([mapping[int(l)] for l in wav2vec2_labels])\n",
    "    else:\n",
    "        wav2vec2_labels = wav2vec2_labels.astype(str)\n",
    "\n",
    "# Convert all to string for consistency\n",
    "egemaps_labels = egemaps_labels.astype(str)\n",
    "wavlm_labels = wavlm_labels.astype(str)\n",
    "\n",
    "# Sanity check: All should have same set of class names\n",
    "print(\"Unique labels per source:\")\n",
    "print(\"eGeMAPS:\", np.unique(egemaps_labels))\n",
    "print(\"Wav2Vec2:\", np.unique(wav2vec2_labels))\n",
    "print(\"WavLM:\", np.unique(wavlm_labels))\n",
    "\n",
    "# Encode with one label encoder\n",
    "le = LabelEncoder()\n",
    "le.fit(egemaps_labels)  # using eGeMAPS as base\n",
    "\n",
    "egemaps_labels_encoded = le.transform(egemaps_labels)\n",
    "wav2vec2_labels_encoded = le.transform(wav2vec2_labels)\n",
    "wavlm_labels_encoded = le.transform(wavlm_labels)\n",
    "\n",
    "# Double-check all match\n",
    "assert np.array_equal(egemaps_labels_encoded, wav2vec2_labels_encoded)\n",
    "assert np.array_equal(egemaps_labels_encoded, wavlm_labels_encoded)\n",
    "\n",
    "# ✅ Concatenate features\n",
    "combined_features = np.concatenate(\n",
    "    [egemaps_features, wav2vec2_features, wavlm_features], axis=1\n",
    ")\n",
    "combined_labels = egemaps_labels_encoded\n",
    "\n",
    "print(\"\\n✅ Combined feature shape:\", combined_features.shape)\n",
    "print(\"✅ Combined label shape:\", combined_labels.shape)\n",
    "print(\"✅ Classes:\", le.classes_)\n"
   ]
  },
  {
   "cell_type": "code",
   "execution_count": 4,
   "id": "81a508b9",
   "metadata": {},
   "outputs": [
    {
     "name": "stderr",
     "output_type": "stream",
     "text": [
      "c:\\Users\\admin\\Desktop\\major major 6\\major 6 final new\\agraja_env\\lib\\site-packages\\numpy\\core\\numeric.py:2468: FutureWarning: elementwise comparison failed; returning scalar instead, but in the future will perform elementwise comparison\n",
      "  return bool(asarray(a1 == a2).all())\n"
     ]
    },
    {
     "ename": "AssertionError",
     "evalue": "",
     "output_type": "error",
     "traceback": [
      "\u001b[1;31m---------------------------------------------------------------------------\u001b[0m",
      "\u001b[1;31mAssertionError\u001b[0m                            Traceback (most recent call last)",
      "Cell \u001b[1;32mIn[4], line 6\u001b[0m\n\u001b[0;32m      1\u001b[0m \u001b[38;5;66;03m# ============================================\u001b[39;00m\n\u001b[0;32m      2\u001b[0m \u001b[38;5;66;03m# Cell 3: Concatenate All Features\u001b[39;00m\n\u001b[0;32m      3\u001b[0m \u001b[38;5;66;03m# ============================================\u001b[39;00m\n\u001b[0;32m      4\u001b[0m \n\u001b[0;32m      5\u001b[0m \u001b[38;5;66;03m# Ensure all labels match\u001b[39;00m\n\u001b[1;32m----> 6\u001b[0m \u001b[38;5;28;01massert\u001b[39;00m np\u001b[38;5;241m.\u001b[39marray_equal(egemaps_labels, wav2vec2_labels)\n\u001b[0;32m      7\u001b[0m \u001b[38;5;28;01massert\u001b[39;00m np\u001b[38;5;241m.\u001b[39marray_equal(egemaps_labels, wavlm_labels)\n\u001b[0;32m      9\u001b[0m \u001b[38;5;66;03m# Concatenate features along axis 1 (feature dimension)\u001b[39;00m\n",
      "\u001b[1;31mAssertionError\u001b[0m: "
     ]
    }
   ],
   "source": [
    "# ============================================\n",
    "# Cell 3: Concatenate All Features\n",
    "# ============================================\n",
    "\n",
    "# Ensure all labels match\n",
    "assert np.array_equal(egemaps_labels, wav2vec2_labels)\n",
    "assert np.array_equal(egemaps_labels, wavlm_labels)\n",
    "\n",
    "# Concatenate features along axis 1 (feature dimension)\n",
    "combined_features = np.concatenate([egemaps_features, wav2vec2_features, wavlm_features], axis=1)\n",
    "combined_labels = egemaps_labels  # all are same\n",
    "\n",
    "print(\"✅ Combined feature shape:\", combined_features.shape)\n",
    "print(\"✅ Combined labels shape:\", combined_labels.shape)\n"
   ]
  },
  {
   "cell_type": "code",
   "execution_count": 3,
   "id": "18e862fe",
   "metadata": {},
   "outputs": [],
   "source": [
    "# ============================================\n",
    "# Cell 4: CNN Definition\n",
    "# ============================================\n",
    "\n",
    "class SimpleCNN(nn.Module):\n",
    "    def __init__(self, input_dim, num_classes):\n",
    "        super(SimpleCNN, self).__init__()\n",
    "        self.fc1 = nn.Linear(input_dim, 512)\n",
    "        self.fc2 = nn.Linear(512, 256)\n",
    "        self.fc3 = nn.Linear(256, num_classes)\n",
    "\n",
    "    def forward(self, x):\n",
    "        x = F.relu(self.fc1(x))\n",
    "        x = F.relu(self.fc2(x))\n",
    "        x = self.fc3(x)\n",
    "        return x\n"
   ]
  },
  {
   "cell_type": "code",
   "execution_count": null,
   "id": "895fbb7b",
   "metadata": {},
   "outputs": [],
   "source": [
    "# ============================================\n",
    "# Cell 5: 10-Fold Cross Validation (Combined CNN)\n",
    "# ============================================\n",
    "\n",
    "device = torch.device(\"cuda\" if torch.cuda.is_available() else \"cpu\")\n",
    "print(\"🖥️ Using device:\", device)\n",
    "\n",
    "# Encode labels\n",
    "le = LabelEncoder()\n",
    "y_encoded = le.fit_transform(combined_labels)\n",
    "num_classes = len(np.unique(y_encoded))\n",
    "input_dim = combined_features.shape[1]\n",
    "\n",
    "# Scale features\n",
    "X_scaled = StandardScaler().fit_transform(combined_features)\n",
    "\n",
    "# 10-fold setup\n",
    "kf = StratifiedKFold(n_splits=10, shuffle=True, random_state=42)\n",
    "all_true, all_pred = [], []\n",
    "\n",
    "# Define model, loss, optimizer\n",
    "model = SimpleCNN(input_dim, num_classes).to(device)\n",
    "criterion = nn.CrossEntropyLoss()\n",
    "optimizer = torch.optim.Adam(model.parameters(), lr=0.001)\n",
    "\n",
    "for fold, (train_idx, test_idx) in enumerate(kf.split(X_scaled, y_encoded), 1):\n",
    "    print(f\"\\n🔹 Fold {fold}/10\")\n",
    "    \n",
    "    X_train, X_test = X_scaled[train_idx], X_scaled[test_idx]\n",
    "    y_train, y_test = y_encoded[train_idx], y_encoded[test_idx]\n",
    "\n",
    "    # Convert to tensors\n",
    "    X_train_tensor = torch.tensor(X_train, dtype=torch.float32).to(device)\n",
    "    y_train_tensor = torch.tensor(y_train, dtype=torch.long).to(device)\n",
    "    X_test_tensor = torch.tensor(X_test, dtype=torch.float32).to(device)\n",
    "    y_test_tensor = torch.tensor(y_test, dtype=torch.long).to(device)\n",
    "\n",
    "    # Dataloader\n",
    "    train_ds = TensorDataset(X_train_tensor, y_train_tensor)\n",
    "    train_loader = DataLoader(train_ds, batch_size=32, shuffle=True)\n",
    "\n",
    "    # Training\n",
    "    model.train()\n",
    "    for epoch in range(10):\n",
    "        epoch_loss = 0\n",
    "        for xb, yb in train_loader:\n",
    "            optimizer.zero_grad()\n",
    "            outputs = model(xb)\n",
    "            loss = criterion(outputs, yb)\n",
    "            loss.backward()\n",
    "            optimizer.step()\n",
    "            epoch_loss += loss.item()\n",
    "        print(f\"Epoch {epoch+1}/10 - Loss: {epoch_loss/len(train_loader):.4f}\")\n",
    "\n",
    "    # Evaluation\n",
    "    model.eval()\n",
    "    with torch.no_grad():\n",
    "        preds = torch.argmax(model(X_test_tensor), dim=1)\n",
    "        all_true.extend(y_test_tensor.cpu().numpy())\n",
    "        all_pred.extend(preds.cpu().numpy())\n",
    "\n",
    "# Save final model\n",
    "save_dir = os.path.join(\"saved_models\", \"combined_features\")\n",
    "os.makedirs(save_dir, exist_ok=True)\n",
    "torch.save(model.state_dict(), os.path.join(save_dir, \"CNN_combined_final.pth\"))\n",
    "\n",
    "print(\"\\n✅ Model training complete and saved.\")\n"
   ]
  },
  {
   "cell_type": "code",
   "execution_count": null,
   "id": "216e86b7",
   "metadata": {},
   "outputs": [],
   "source": [
    "# ============================================\n",
    "# Cell 6: Evaluation Results\n",
    "# ============================================\n",
    "\n",
    "cm = confusion_matrix(all_true, all_pred)\n",
    "plt.figure(figsize=(6, 5))\n",
    "sns.heatmap(cm, annot=True, fmt=\"d\", cmap=\"Blues\",\n",
    "            xticklabels=le.classes_, yticklabels=le.classes_)\n",
    "plt.xlabel(\"Predicted\")\n",
    "plt.ylabel(\"True\")\n",
    "plt.title(\"Combined Features - CNN Confusion Matrix\")\n",
    "plt.show()\n",
    "\n",
    "print(\"\\n📈 Classification Report:\")\n",
    "print(classification_report(all_true, all_pred, digits=3))\n"
   ]
  },
  {
   "cell_type": "code",
   "execution_count": null,
   "id": "ac9d7d3b",
   "metadata": {},
   "outputs": [],
   "source": [
    "\n"
   ]
  }
 ],
 "metadata": {
  "kernelspec": {
   "display_name": "agraja_env",
   "language": "python",
   "name": "python3"
  },
  "language_info": {
   "codemirror_mode": {
    "name": "ipython",
    "version": 3
   },
   "file_extension": ".py",
   "mimetype": "text/x-python",
   "name": "python",
   "nbconvert_exporter": "python",
   "pygments_lexer": "ipython3",
   "version": "3.8.2"
  }
 },
 "nbformat": 4,
 "nbformat_minor": 5
}
