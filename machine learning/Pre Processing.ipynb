{
 "cells": [
  {
   "cell_type": "code",
   "execution_count": 1,
   "id": "5caa3bf7",
   "metadata": {},
   "outputs": [
    {
     "name": "stdout",
     "output_type": "stream",
     "text": [
      "Requirement already satisfied: librosa in c:\\program files\\python38\\lib\\site-packages (0.11.0)\n",
      "Requirement already satisfied: soundfile in c:\\program files\\python38\\lib\\site-packages (0.13.1)\n",
      "Requirement already satisfied: noisereduce in c:\\program files\\python38\\lib\\site-packages (3.0.3)\n",
      "Requirement already satisfied: pydub in c:\\program files\\python38\\lib\\site-packages (0.25.1)\n",
      "Requirement already satisfied: torch in c:\\program files\\python38\\lib\\site-packages (2.4.1+cu121)\n",
      "Requirement already satisfied: torchaudio in c:\\program files\\python38\\lib\\site-packages (2.4.1+cu121)\n",
      "Requirement already satisfied: transformers in c:\\program files\\python38\\lib\\site-packages (4.46.3)\n",
      "Requirement already satisfied: tqdm in c:\\program files\\python38\\lib\\site-packages (4.67.1)\n",
      "Collecting webrtcvad\n",
      "  Using cached webrtcvad-2.0.10.tar.gz (66 kB)\n",
      "  Preparing metadata (setup.py): started\n",
      "  Preparing metadata (setup.py): finished with status 'done'\n",
      "Requirement already satisfied: numpy in c:\\program files\\python38\\lib\\site-packages (1.24.3)\n",
      "Requirement already satisfied: pandas in c:\\program files\\python38\\lib\\site-packages (2.0.3)\n",
      "Requirement already satisfied: audioread>=2.1.9 in c:\\program files\\python38\\lib\\site-packages (from librosa) (3.0.1)\n",
      "Requirement already satisfied: numba>=0.51.0 in c:\\program files\\python38\\lib\\site-packages (from librosa) (0.58.1)\n",
      "Requirement already satisfied: scipy>=1.6.0 in c:\\program files\\python38\\lib\\site-packages (from librosa) (1.10.1)\n",
      "Requirement already satisfied: scikit-learn>=1.1.0 in c:\\program files\\python38\\lib\\site-packages (from librosa) (1.3.2)\n",
      "Requirement already satisfied: joblib>=1.0 in c:\\program files\\python38\\lib\\site-packages (from librosa) (1.4.2)\n",
      "Requirement already satisfied: decorator>=4.3.0 in c:\\users\\admin\\appdata\\roaming\\python\\python38\\site-packages (from librosa) (5.1.1)\n",
      "Requirement already satisfied: pooch>=1.1 in c:\\program files\\python38\\lib\\site-packages (from librosa) (1.8.2)\n",
      "Requirement already satisfied: soxr>=0.3.2 in c:\\program files\\python38\\lib\\site-packages (from librosa) (0.3.7)\n",
      "Requirement already satisfied: typing_extensions>=4.1.1 in c:\\program files\\python38\\lib\\site-packages (from librosa) (4.12.2)\n",
      "Requirement already satisfied: lazy_loader>=0.1 in c:\\program files\\python38\\lib\\site-packages (from librosa) (0.4)\n",
      "Requirement already satisfied: msgpack>=1.0 in c:\\program files\\python38\\lib\\site-packages (from librosa) (1.1.1)\n",
      "Requirement already satisfied: cffi>=1.0 in c:\\program files\\python38\\lib\\site-packages (from soundfile) (1.17.1)\n",
      "Requirement already satisfied: matplotlib in c:\\program files\\python38\\lib\\site-packages (from noisereduce) (3.7.5)\n",
      "Requirement already satisfied: filelock in c:\\program files\\python38\\lib\\site-packages (from torch) (3.16.1)\n",
      "Requirement already satisfied: sympy in c:\\program files\\python38\\lib\\site-packages (from torch) (1.13.3)\n",
      "Requirement already satisfied: networkx in c:\\program files\\python38\\lib\\site-packages (from torch) (3.1)\n",
      "Requirement already satisfied: jinja2 in c:\\program files\\python38\\lib\\site-packages (from torch) (3.1.6)\n",
      "Requirement already satisfied: fsspec in c:\\program files\\python38\\lib\\site-packages (from torch) (2025.3.0)\n",
      "Requirement already satisfied: huggingface-hub<1.0,>=0.23.2 in c:\\program files\\python38\\lib\\site-packages (from transformers) (0.35.0)\n",
      "Requirement already satisfied: packaging>=20.0 in c:\\program files\\python38\\lib\\site-packages (from transformers) (25.0)\n",
      "Requirement already satisfied: pyyaml>=5.1 in c:\\program files\\python38\\lib\\site-packages (from transformers) (6.0.2)\n",
      "Requirement already satisfied: regex!=2019.12.17 in c:\\program files\\python38\\lib\\site-packages (from transformers) (2024.11.6)\n",
      "Requirement already satisfied: requests in c:\\program files\\python38\\lib\\site-packages (from transformers) (2.32.3)\n",
      "Requirement already satisfied: tokenizers<0.21,>=0.20 in c:\\program files\\python38\\lib\\site-packages (from transformers) (0.20.3)\n",
      "Requirement already satisfied: safetensors>=0.4.1 in c:\\program files\\python38\\lib\\site-packages (from transformers) (0.5.3)\n",
      "Requirement already satisfied: colorama in c:\\users\\admin\\appdata\\roaming\\python\\python38\\site-packages (from tqdm) (0.4.6)\n",
      "Requirement already satisfied: python-dateutil>=2.8.2 in c:\\users\\admin\\appdata\\roaming\\python\\python38\\site-packages (from pandas) (2.9.0.post0)\n",
      "Requirement already satisfied: pytz>=2020.1 in c:\\program files\\python38\\lib\\site-packages (from pandas) (2024.2)\n",
      "Requirement already satisfied: tzdata>=2022.1 in c:\\program files\\python38\\lib\\site-packages (from pandas) (2024.2)\n",
      "Requirement already satisfied: pycparser in c:\\program files\\python38\\lib\\site-packages (from cffi>=1.0->soundfile) (2.22)\n",
      "Requirement already satisfied: llvmlite<0.42,>=0.41.0dev0 in c:\\program files\\python38\\lib\\site-packages (from numba>=0.51.0->librosa) (0.41.1)\n",
      "Requirement already satisfied: importlib-metadata in c:\\program files\\python38\\lib\\site-packages (from numba>=0.51.0->librosa) (8.5.0)\n",
      "Requirement already satisfied: platformdirs>=2.5.0 in c:\\users\\admin\\appdata\\roaming\\python\\python38\\site-packages (from pooch>=1.1->librosa) (4.2.2)\n",
      "Requirement already satisfied: six>=1.5 in c:\\program files\\python38\\lib\\site-packages (from python-dateutil>=2.8.2->pandas) (1.17.0)\n"
     ]
    },
    {
     "name": "stderr",
     "output_type": "stream",
     "text": [
      "ERROR: Could not install packages due to an OSError: [Errno 2] No such file or directory: 'c:\\\\program files\\\\python38\\\\lib\\\\site-packages\\\\requests-2.32.3.dist-info\\\\METADATA'\n",
      "\n",
      "\n",
      "[notice] A new release of pip is available: 24.3.1 -> 25.0.1\n",
      "[notice] To update, run: python.exe -m pip install --upgrade pip\n"
     ]
    }
   ],
   "source": [
    "!pip install librosa soundfile noisereduce pydub torch torchaudio transformers tqdm webrtcvad numpy pandas"
   ]
  },
  {
   "cell_type": "code",
   "execution_count": 2,
   "id": "59eb8ee3",
   "metadata": {},
   "outputs": [
    {
     "name": "stderr",
     "output_type": "stream",
     "text": [
      "c:\\Program Files\\Python38\\lib\\site-packages\\tqdm\\auto.py:21: TqdmWarning: IProgress not found. Please update jupyter and ipywidgets. See https://ipywidgets.readthedocs.io/en/stable/user_install.html\n",
      "  from .autonotebook import tqdm as notebook_tqdm\n",
      "c:\\Program Files\\Python38\\lib\\site-packages\\pydub\\utils.py:170: RuntimeWarning: Couldn't find ffmpeg or avconv - defaulting to ffmpeg, but may not work\n",
      "  warn(\"Couldn't find ffmpeg or avconv - defaulting to ffmpeg, but may not work\", RuntimeWarning)\n"
     ]
    }
   ],
   "source": [
    "import os\n",
    "import librosa\n",
    "import soundfile as sf\n",
    "import numpy as np\n",
    "import pandas as pd\n",
    "import torch\n",
    "import noisereduce as nr\n",
    "from tqdm import tqdm\n",
    "from pydub import AudioSegment\n"
   ]
  },
  {
   "cell_type": "code",
   "execution_count": 3,
   "id": "824dc421",
   "metadata": {},
   "outputs": [
    {
     "name": "stdout",
     "output_type": "stream",
     "text": [
      "Using device: cuda\n"
     ]
    }
   ],
   "source": [
    "INPUT_DIR = \"pitt_corpus_wav\"\n",
    "OUTPUT_DIR = \"pitt_corpus_processed\"\n",
    "SEGMENT_DURATION = 10       # in seconds\n",
    "OVERLAP = 5                 # in seconds (set 0 for no overlap)\n",
    "TARGET_SR = 16000           # 16kHz for Wav2Vec2/WavLM\n",
    "\n",
    "os.makedirs(OUTPUT_DIR, exist_ok=True)\n",
    "for cls in [\"Control\", \"Dementia\"]:\n",
    "    os.makedirs(os.path.join(OUTPUT_DIR, cls), exist_ok=True)\n",
    "\n",
    "device = \"cuda\" if torch.cuda.is_available() else \"cpu\"\n",
    "print(f\"Using device: {device}\")\n",
    "\n"
   ]
  },
  {
   "cell_type": "code",
   "execution_count": 4,
   "id": "b15cb9ac",
   "metadata": {},
   "outputs": [],
   "source": [
    "def load_audio(filepath, sr=TARGET_SR):\n",
    "    \"\"\"Load and resample audio.\"\"\"\n",
    "    y, sr = librosa.load(filepath, sr=sr, mono=True)\n",
    "    return y, sr\n",
    "\n",
    "def reduce_noise(y, sr):\n",
    "    \"\"\"Apply spectral gating noise reduction.\"\"\"\n",
    "    return nr.reduce_noise(y=y, sr=sr)\n",
    "\n",
    "def rms_normalize(y, target_db=-20):\n",
    "    \"\"\"Normalize audio to a consistent loudness (in dBFS).\"\"\"\n",
    "    rms = np.sqrt(np.mean(y**2))\n",
    "    scalar = 10 ** (target_db / 20) / (rms + 1e-9)\n",
    "    return y * scalar\n",
    "\n",
    "def pre_emphasis(y, coeff=0.97):\n",
    "    \"\"\"Pre-emphasis filter to boost high frequencies.\"\"\"\n",
    "    if len(y)==0:\n",
    "        return y\n",
    "    return np.append(y[0], y[1:] - coeff * y[:-1])\n",
    "\n",
    "def trim_silence(y, sr, top_db=30):\n",
    "    \"\"\"Trim leading and trailing silence.\"\"\"\n",
    "    yt, _ = librosa.effects.trim(y, top_db=top_db)\n",
    "    return yt\n",
    "\n",
    "def segment_audio(y, sr, segment_length=SEGMENT_DURATION, overlap=OVERLAP):\n",
    "    \"\"\"Split audio into 10s segments (with overlap).\"\"\"\n",
    "    step = segment_length - overlap\n",
    "    samples_per_segment = int(segment_length * sr)\n",
    "    step_size = int(step * sr)\n",
    "    segments = []\n",
    "    \n",
    "    for start in range(0, len(y), step_size):\n",
    "        end = start + samples_per_segment\n",
    "        segment = y[start:end]\n",
    "        if len(segment) < samples_per_segment:\n",
    "            segment = np.pad(segment, (0, samples_per_segment - len(segment)))\n",
    "        segments.append(segment)\n",
    "        if end >= len(y):\n",
    "            break\n",
    "    return segments"
   ]
  },
  {
   "cell_type": "code",
   "execution_count": 5,
   "id": "466be0f4",
   "metadata": {},
   "outputs": [
    {
     "name": "stderr",
     "output_type": "stream",
     "text": [
      "Processing Control:  93%|█████████▎| 213/228 [02:28<00:09,  1.63it/s]c:\\Program Files\\Python38\\lib\\site-packages\\noisereduce\\spectralgate\\nonstationary.py:70: RuntimeWarning: invalid value encountered in divide\n",
      "  sig_mult_above_thresh = (abs_sig_stft - sig_stft_smooth) / sig_stft_smooth\n",
      "Processing Control:  94%|█████████▍| 214/228 [02:29<00:09,  1.43it/s]"
     ]
    },
    {
     "name": "stdout",
     "output_type": "stream",
     "text": [
      "⚠️ Skipping 323-1.wav — no speech detected after trimming.\n"
     ]
    },
    {
     "name": "stderr",
     "output_type": "stream",
     "text": [
      "Processing Control: 100%|██████████| 228/228 [02:39<00:00,  1.43it/s]\n",
      "Processing Dementia: 100%|██████████| 297/297 [04:01<00:00,  1.23it/s]\n"
     ]
    }
   ],
   "source": [
    "metadata = []\n",
    "\n",
    "for cls in [\"Control\", \"Dementia\"]:\n",
    "    input_path = os.path.join(INPUT_DIR, cls)\n",
    "    output_path = os.path.join(OUTPUT_DIR, cls)\n",
    "    \n",
    "    for filename in tqdm(os.listdir(input_path), desc=f\"Processing {cls}\"):\n",
    "        if not filename.lower().endswith(\".wav\"):\n",
    "            continue\n",
    "            \n",
    "        filepath = os.path.join(input_path, filename)\n",
    "        \n",
    "        # Load audio\n",
    "        y, sr = load_audio(filepath)\n",
    "        \n",
    "        # Step 1: Noise reduction\n",
    "        y = reduce_noise(y, sr)\n",
    "        \n",
    "        # Step 2: Silence trimming\n",
    "        y = trim_silence(y, sr)\n",
    "        if len(y) == 0:\n",
    "            print(f\"⚠️ Skipping {filename} — no speech detected after trimming.\")\n",
    "            continue\n",
    "        \n",
    "        # Step 3: RMS normalization\n",
    "        y = rms_normalize(y)\n",
    "        \n",
    "        # Step 4: Pre-emphasis\n",
    "        y = pre_emphasis(y)\n",
    "        \n",
    "        # Step 5: Segmentation\n",
    "        segments = segment_audio(y, sr)\n",
    "        \n",
    "        # Step 6: Save each segment\n",
    "        for i, seg in enumerate(segments):\n",
    "            seg_filename = f\"{os.path.splitext(filename)[0]}_seg{i}.wav\"\n",
    "            seg_path = os.path.join(output_path, seg_filename)\n",
    "            sf.write(seg_path, seg, sr)\n",
    "            \n",
    "            metadata.append({\n",
    "                \"filepath\": seg_path,\n",
    "                \"label\": 0 if cls == \"Control\" else 1,\n",
    "                \"duration_sec\": len(seg)/sr\n",
    "            })\n"
   ]
  },
  {
   "cell_type": "code",
   "execution_count": 6,
   "id": "933aba11",
   "metadata": {},
   "outputs": [
    {
     "name": "stdout",
     "output_type": "stream",
     "text": [
      "✅ Preprocessing complete! Total segments: 6930\n",
      "Metadata saved at: pitt_corpus_processed\\segment_metadata.csv\n"
     ]
    }
   ],
   "source": [
    "df = pd.DataFrame(metadata)\n",
    "df.to_csv(os.path.join(OUTPUT_DIR, \"segment_metadata.csv\"), index=False)\n",
    "print(f\"✅ Preprocessing complete! Total segments: {len(df)}\")\n",
    "print(f\"Metadata saved at: {os.path.join(OUTPUT_DIR, 'segment_metadata.csv')}\")\n"
   ]
  },
  {
   "cell_type": "code",
   "execution_count": null,
   "id": "656d18e7",
   "metadata": {},
   "outputs": [],
   "source": [
    "    "
   ]
  }
 ],
 "metadata": {
  "kernelspec": {
   "display_name": "Python 3",
   "language": "python",
   "name": "python3"
  },
  "language_info": {
   "codemirror_mode": {
    "name": "ipython",
    "version": 3
   },
   "file_extension": ".py",
   "mimetype": "text/x-python",
   "name": "python",
   "nbconvert_exporter": "python",
   "pygments_lexer": "ipython3",
   "version": "3.8.2"
  }
 },
 "nbformat": 4,
 "nbformat_minor": 5
}
